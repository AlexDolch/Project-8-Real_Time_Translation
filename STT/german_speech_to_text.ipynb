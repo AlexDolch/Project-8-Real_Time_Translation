{
 "cells": [
  {
   "cell_type": "markdown",
   "metadata": {},
   "source": [
    "## *Explorative Notebook: possibilities to transform speech into text.* "
   ]
  },
  {
   "cell_type": "markdown",
   "metadata": {},
   "source": [
    "## 1. List of information\n",
    "https://alphacephei.com/vosk/integrations  \n",
    "https://www.youtube.com/watch?v=Itic1lFc4Gg&ab_channel=yingshaoxo%27slab  \n",
    "\n"
   ]
  },
  {
   "cell_type": "code",
   "execution_count": 1,
   "metadata": {},
   "outputs": [],
   "source": [
    "#!pip install vosk\n",
    "#!pip install pyaudio"
   ]
  },
  {
   "cell_type": "code",
   "execution_count": 2,
   "metadata": {},
   "outputs": [],
   "source": [
    "import vosk as vk\n",
    "import pyaudio"
   ]
  },
  {
   "cell_type": "code",
   "execution_count": 3,
   "metadata": {},
   "outputs": [],
   "source": [
    "model = vk.Model(r\"C:\\Users\\hamud\\Documents\\WBS_Coding_School\\Projects\\Project_W\\Project_W_WBS\\model\\vosk-model-small-de-0.15\")"
   ]
  },
  {
   "cell_type": "code",
   "execution_count": 4,
   "metadata": {},
   "outputs": [],
   "source": [
    "large_model = vk.Model(r\"C:\\Users\\hamud\\Documents\\WBS_Coding_School\\Projects\\Project_W\\Project_W_WBS\\model\\vosk-model-de-0.21\")"
   ]
  },
  {
   "cell_type": "code",
   "execution_count": 5,
   "metadata": {},
   "outputs": [],
   "source": [
    "# largest_model = vk.Model(r\"C:\\Users\\AlexD\\Desktop\\final_project\\models\\stt\\vosk-model-de-tuda-0.6-900k\")"
   ]
  },
  {
   "cell_type": "code",
   "execution_count": 6,
   "metadata": {},
   "outputs": [],
   "source": [
    "rec = vk.KaldiRecognizer(large_model, 16000)"
   ]
  },
  {
   "cell_type": "code",
   "execution_count": null,
   "metadata": {
    "tags": []
   },
   "outputs": [],
   "source": [
    "p = pyaudio.PyAudio()\n",
    "\n",
    "# input for recordtime\n",
    "record_time = int(input(\"Enter recording time in seconds: \"))\n",
    "\n",
    "# hyperparameters\n",
    "stream = p.open(format=pyaudio.paInt16, channels=1, rate=16000, input=True, frames_per_buffer=4000)"
   ]
  },
  {
   "cell_type": "code",
   "execution_count": null,
   "metadata": {},
   "outputs": [],
   "source": [
    "#data = stream.read(4000)"
   ]
  },
  {
   "cell_type": "code",
   "execution_count": null,
   "metadata": {},
   "outputs": [],
   "source": [
    "# \n",
    "for i in range(0, int(16000 / 4000 * record_time)):\n",
    "    data = stream.read(4000)\n",
    "    if rec.AcceptWaveform(data):\n",
    "        result = rec.Result()\n",
    "        print(result)"
   ]
  },
  {
   "cell_type": "code",
   "execution_count": null,
   "metadata": {},
   "outputs": [],
   "source": [
    "# while True:\n",
    "#     data = stream.read(4000)\n",
    "#     if len(data) == 0:     # need to change that for actually breaking the shit after some time\n",
    "#         break\n",
    "#     if rec.AcceptWaveform(data):\n",
    "#         result = rec.Result()\n",
    "#         print(result)"
   ]
  },
  {
   "cell_type": "code",
   "execution_count": null,
   "metadata": {},
   "outputs": [],
   "source": [
    "# final_result = rec.FinalResult()\n",
    "# print(final_result)"
   ]
  },
  {
   "cell_type": "code",
   "execution_count": null,
   "metadata": {},
   "outputs": [],
   "source": []
  }
 ],
 "metadata": {
  "kernelspec": {
   "display_name": "Python 3 (ipykernel)",
   "language": "python",
   "name": "python3"
  },
  "language_info": {
   "codemirror_mode": {
    "name": "ipython",
    "version": 3
   },
   "file_extension": ".py",
   "mimetype": "text/x-python",
   "name": "python",
   "nbconvert_exporter": "python",
   "pygments_lexer": "ipython3",
   "version": "3.9.12"
  },
  "vscode": {
   "interpreter": {
    "hash": "755c4afb800e2736e1c32b80e9133e6285c2b4a0d42641b93ad84761d09cdafc"
   }
  }
 },
 "nbformat": 4,
 "nbformat_minor": 4
}
