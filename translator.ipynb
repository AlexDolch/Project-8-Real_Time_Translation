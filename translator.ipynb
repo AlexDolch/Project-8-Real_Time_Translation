{
 "cells": [
  {
   "cell_type": "code",
   "execution_count": 1,
   "metadata": {
    "tags": []
   },
   "outputs": [
    {
     "name": "stdout",
     "output_type": "stream",
     "text": [
      "Hallo Welt! (de) --> Hello World! (en)\n"
     ]
    },
    {
     "data": {
      "text/plain": [
       "'Hello World!'"
      ]
     },
     "execution_count": 1,
     "metadata": {},
     "output_type": "execute_result"
    }
   ],
   "source": [
    "#!pip install googletrans\n",
    "from googletrans import Translator, constants\n",
    "from pprint import pprint\n",
    "\n",
    "# init the Google API translator\n",
    "translator = Translator()\n",
    "\n",
    "#!pip3 install googletrans==3.1.0a0\n",
    "\n",
    "test = \"Hallo Welt!\"\n",
    "translation = translator.translate(test)\n",
    "print(f\"{translation.origin} ({translation.src}) --> {translation.text} ({translation.dest})\")\n",
    "\n",
    "translated_text = translation.text\n",
    "\n",
    "translated_text\n"
   ]
  }
 ],
 "metadata": {
  "kernelspec": {
   "display_name": "Python 3 (ipykernel)",
   "language": "python",
   "name": "python3"
  },
  "language_info": {
   "codemirror_mode": {
    "name": "ipython",
    "version": 3
   },
   "file_extension": ".py",
   "mimetype": "text/x-python",
   "name": "python",
   "nbconvert_exporter": "python",
   "pygments_lexer": "ipython3",
   "version": "3.9.12"
  },
  "vscode": {
   "interpreter": {
    "hash": "755c4afb800e2736e1c32b80e9133e6285c2b4a0d42641b93ad84761d09cdafc"
   }
  }
 },
 "nbformat": 4,
 "nbformat_minor": 4
}
