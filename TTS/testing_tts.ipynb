{
 "cells": [
  {
   "cell_type": "code",
   "execution_count": 2,
   "metadata": {},
   "outputs": [
    {
     "name": "stdout",
     "output_type": "stream",
     "text": [
      "Voice:\n",
      " - ID: HKEY_LOCAL_MACHINE\\SOFTWARE\\Microsoft\\Speech\\Voices\\Tokens\\TTS_MS_EN-US_ZIRA_11.0\n",
      " - Name: Microsoft Zira Desktop - English (United States)\n",
      " - Gender: None\n",
      " - Age: None\n",
      "\n",
      "\n",
      "Voice:\n",
      " - ID: HKEY_LOCAL_MACHINE\\SOFTWARE\\Microsoft\\Speech\\Voices\\Tokens\\TTS_MS_DE-DE_HEDDA_11.0\n",
      " - Name: Microsoft Hedda Desktop - German\n",
      " - Gender: None\n",
      " - Age: None\n",
      "\n",
      "\n"
     ]
    }
   ],
   "source": [
    "import pyttsx3\n",
    "\n",
    "engine = pyttsx3.init('sapi5')\n",
    "voices = engine.getProperty('voices')\n",
    "\n",
    "for voice in voices:\n",
    "    print(\"Voice:\")\n",
    "    print(\" - ID: %s\" % voice.id)\n",
    "    print(\" - Name: %s\" % voice.name)\n",
    "    print(\" - Gender: %s\" % voice.gender)\n",
    "    print(\" - Age: %s\" % voice.age)\n",
    "    print(\"\\n\")\n",
    "\n",
    "engine.setProperty('voice', voices[0].id) # Microsoft David Desktop\n",
    "engine.say(\"Hello, this is a test.\")\n",
    "engine.runAndWait()"
   ]
  }
 ],
 "metadata": {
  "kernelspec": {
   "display_name": "main_venv",
   "language": "python",
   "name": "python3"
  },
  "language_info": {
   "codemirror_mode": {
    "name": "ipython",
    "version": 3
   },
   "file_extension": ".py",
   "mimetype": "text/x-python",
   "name": "python",
   "nbconvert_exporter": "python",
   "pygments_lexer": "ipython3",
   "version": "3.10.6"
  },
  "orig_nbformat": 4,
  "vscode": {
   "interpreter": {
    "hash": "755c4afb800e2736e1c32b80e9133e6285c2b4a0d42641b93ad84761d09cdafc"
   }
  }
 },
 "nbformat": 4,
 "nbformat_minor": 2
}
